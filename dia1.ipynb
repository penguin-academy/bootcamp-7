{
 "cells": [
  {
   "cell_type": "markdown",
   "metadata": {},
   "source": [
    "# Primer encuentro con Python"
   ]
  },
  {
   "cell_type": "code",
   "execution_count": 2,
   "metadata": {},
   "outputs": [
    {
     "name": "stdout",
     "output_type": "stream",
     "text": [
      "hola mundo\n"
     ]
    }
   ],
   "source": [
    "print(\"hola mundo\")"
   ]
  },
  {
   "cell_type": "markdown",
   "metadata": {},
   "source": [
    "# Variables"
   ]
  },
  {
   "cell_type": "code",
   "execution_count": 4,
   "metadata": {},
   "outputs": [
    {
     "name": "stdout",
     "output_type": "stream",
     "text": [
      "10\n"
     ]
    }
   ],
   "source": [
    "numero1 = 10\n",
    "print(numero1)"
   ]
  },
  {
   "cell_type": "markdown",
   "metadata": {},
   "source": [
    "# Ejemplo con hola mundo"
   ]
  },
  {
   "cell_type": "code",
   "execution_count": 12,
   "metadata": {},
   "outputs": [
    {
     "name": "stdout",
     "output_type": "stream",
     "text": [
      "hola mundo\n"
     ]
    }
   ],
   "source": [
    "saludo = \"hola mundo\"\n",
    "print(saludo)"
   ]
  },
  {
   "cell_type": "markdown",
   "metadata": {},
   "source": [
    "# Tipos de datos"
   ]
  },
  {
   "cell_type": "code",
   "execution_count": 10,
   "metadata": {},
   "outputs": [
    {
     "name": "stdout",
     "output_type": "stream",
     "text": [
      "maitei\n",
      "100\n",
      "3.14\n"
     ]
    }
   ],
   "source": [
    "saludo = \"maitei\" # texto -> strings -> str\n",
    "\n",
    "cantidad = 100 # número entero -> integer -> int\n",
    "\n",
    "pi = 3.14 # número decimal -> floating number -> float\n",
    "\n",
    "print(saludo)\n",
    "print(cantidad)\n",
    "print(pi)"
   ]
  },
  {
   "cell_type": "markdown",
   "metadata": {},
   "source": [
    "# Operaciones aritméticas"
   ]
  },
  {
   "cell_type": "code",
   "execution_count": 17,
   "metadata": {},
   "outputs": [
    {
     "name": "stdout",
     "output_type": "stream",
     "text": [
      "24\n",
      "0\n",
      "36\n",
      "5.5\n",
      "9.0\n"
     ]
    }
   ],
   "source": [
    "# Suma\n",
    "print(7 + 8 + 9)\n",
    "\n",
    "# Resta\n",
    "print(10 - 10)\n",
    "\n",
    "# Multiplicacion\n",
    "print(12 * 3)\n",
    "\n",
    "# Division\n",
    "print(11 / 2)\n",
    "\n",
    "# Python obedece a la regla matemática de la precedencia de operadores\n",
    "print(2 * 2 + 12 / 2 - 1)"
   ]
  },
  {
   "cell_type": "markdown",
   "metadata": {},
   "source": [
    "## Challenge 🤺\n",
    "\n",
    "1. Suma: asignar dos números en dos variables diferentes `cantidad_de_manzanas` y `cantidad_de_naranjas`. Luego sumar ambas variables en `cantidad_de_frutas`. Imprimir la última variable.\n",
    "\n",
    "2. Resta: asignar un valor numérico a la variable `frutas_comidas`. Luego, asignar la resta entre `cantidad_de_frutas` y `frutas_comidas` a la variable `frutas_restantes`. Imprimir la última variable."
   ]
  },
  {
   "cell_type": "code",
   "execution_count": 18,
   "metadata": {},
   "outputs": [
    {
     "name": "stdout",
     "output_type": "stream",
     "text": [
      "15\n",
      "12\n"
     ]
    }
   ],
   "source": [
    "# Solucion de Laura\n",
    "\n",
    "manzanas = 10\n",
    "naranjas = 5\n",
    "cantidad_de_frutas = manzanas + naranjas\n",
    "print(cantidad_de_frutas)\n",
    "\n",
    "frutas_comidas = 3\n",
    "frutas_restantes = cantidad_de_frutas - frutas_comidas\n",
    "print(frutas_restantes)"
   ]
  },
  {
   "cell_type": "code",
   "execution_count": 19,
   "metadata": {},
   "outputs": [
    {
     "name": "stdout",
     "output_type": "stream",
     "text": [
      "10\n",
      "20\n",
      "30\n",
      "50\n",
      "35\n",
      "15\n"
     ]
    }
   ],
   "source": [
    "# Solucion de Oscar\n",
    "\n",
    "# Cantidad de manzanas\n",
    "numero1 = 10\n",
    "print(numero1)\n",
    "\n",
    "# Cantidad de naranjas\n",
    "numero2 = 20\n",
    "print(numero2)\n",
    "\n",
    "# Cantidad de frutas\n",
    "# Suma\n",
    "print(numero2 + numero1)\n",
    "\n",
    "# Frutas comidas\n",
    "numero1 = 50\n",
    "print(numero1)\n",
    "\n",
    "# Frutas restantes\n",
    "numero2 = 35\n",
    "print(numero2)\n",
    "\n",
    "# Cantidad de frutas\n",
    "# Resta\n",
    "print(numero1 - numero2)\n"
   ]
  },
  {
   "cell_type": "code",
   "execution_count": 20,
   "metadata": {},
   "outputs": [
    {
     "name": "stdout",
     "output_type": "stream",
     "text": [
      "hola\n"
     ]
    }
   ],
   "source": [
    "# Ejemplo de sobrescribir variables\n",
    "\n",
    "variable = 1\n",
    "variable = 100\n",
    "variable = \"hola\"\n",
    "\n",
    "print(variable)"
   ]
  },
  {
   "cell_type": "markdown",
   "metadata": {},
   "source": [
    "# Jugando con texto"
   ]
  },
  {
   "cell_type": "code",
   "execution_count": 25,
   "metadata": {},
   "outputs": [
    {
     "name": "stdout",
     "output_type": "stream",
     "text": [
      "Enmanuel\n",
      "Ruffinelli\n",
      "EnmanuelRuffinelli\n",
      "Enmanuel Ruffinelli\n",
      "Enmanuel Ruffinelli\n"
     ]
    }
   ],
   "source": [
    "nombre = 'Enmanuel'\n",
    "apellido = \"Ruffinelli\"\n",
    "\n",
    "print(nombre)\n",
    "print(apellido)\n",
    "\n",
    "# Concatenación\n",
    "print(nombre + apellido)\n",
    "\n",
    "# Dos variables\n",
    "print(nombre, apellido)\n",
    "\n",
    "# Resultado más estético\n",
    "print(nombre + \" \" + apellido)"
   ]
  },
  {
   "cell_type": "markdown",
   "metadata": {},
   "source": [
    "## Challenge 🤺\n",
    "\n",
    "1. Asignar el nombre y el apellido de tu compañera/o a las variables `nombre` y `apellido`. Luego, imprimir la siguiente frase, utilizando las variables: \"Hola. Mi nombre es Enmanuel Ruffinelli. Mucho gusto.\""
   ]
  },
  {
   "cell_type": "code",
   "execution_count": 27,
   "metadata": {},
   "outputs": [
    {
     "name": "stdout",
     "output_type": "stream",
     "text": [
      "Hola. Mi nombre es Leti Mendoza Mucho gusto.\n"
     ]
    }
   ],
   "source": [
    "# Solución de Ruthie\n",
    "\n",
    "nombre = \"Leti\"\n",
    "apellido = \"Mendoza\"\n",
    "print(\"Hola. Mi nombre es \" + nombre + \" \" + apellido + \" \" + \"Mucho gusto.\")"
   ]
  },
  {
   "cell_type": "code",
   "execution_count": 29,
   "metadata": {},
   "outputs": [
    {
     "name": "stdout",
     "output_type": "stream",
     "text": [
      "Hola. Mi nombre es Leti Mendoza Mucho gusto.\n"
     ]
    }
   ],
   "source": [
    "# Solución de Ruthie (remix feat. Enma)\n",
    "\n",
    "nombre = \"Leti\"\n",
    "apellido = \"Mendoza\"\n",
    "saludo = \"Hola. Mi nombre es \"\n",
    "saludo_ingles = \"Hello, my name is \"\n",
    "nombre_completo = nombre + \" \" + apellido\n",
    "despedida = \" Mucho gusto.\"\n",
    "frase =  saludo + nombre_completo + despedida\n",
    "print(frase)\n",
    "\n",
    "print(\"Hola mi nombre es Enmanuel\")"
   ]
  },
  {
   "cell_type": "markdown",
   "metadata": {},
   "source": [
    "# Obteniendo datos del usuario"
   ]
  },
  {
   "cell_type": "code",
   "execution_count": 34,
   "metadata": {},
   "outputs": [
    {
     "name": "stdout",
     "output_type": "stream",
     "text": [
      "5\n",
      "10\n",
      "510\n",
      "<class 'str'>\n",
      "<class 'str'>\n"
     ]
    }
   ],
   "source": [
    "numero1 = input(\"Escriba un número, por favor: \")\n",
    "print(numero1)\n",
    "\n",
    "numero2 = input(\"Escriba otro número, por favor: \")\n",
    "print(numero2)\n",
    "\n",
    "# Suma de datos del usuario\n",
    "suma_de_numeros = numero1 + numero2\n",
    "print(suma_de_numeros)\n",
    "\n",
    "# Identificar el tipo de dato\n",
    "print(type(numero1))\n",
    "print(type(numero2))"
   ]
  },
  {
   "cell_type": "code",
   "execution_count": 76,
   "metadata": {},
   "outputs": [
    {
     "name": "stdout",
     "output_type": "stream",
     "text": [
      "5\n",
      "10\n",
      "<class 'int'>\n",
      "<class 'int'>\n",
      "15\n"
     ]
    }
   ],
   "source": [
    "# Primer ingreso\n",
    "numero1 = int(input(\"Escriba un número, por favor: \"))\n",
    "print(numero1)\n",
    "\n",
    "# Segundo ingreso\n",
    "numero2 = int(input(\"Escriba otro número, por favor: \"))\n",
    "print(numero2)\n",
    "\n",
    "# Conversión de tipo de dato\n",
    "numero1 = int(numero1)\n",
    "numero2 = int(numero2)\n",
    "\n",
    "print(type(numero1))\n",
    "print(type(numero2))\n",
    "\n",
    "print(numero1 + numero2)"
   ]
  },
  {
   "cell_type": "code",
   "execution_count": 38,
   "metadata": {},
   "outputs": [
    {
     "name": "stdout",
     "output_type": "stream",
     "text": [
      "3\n"
     ]
    }
   ],
   "source": [
    "numero_decimal = 3.14\n",
    "numero_decimal = int(numero_decimal)\n",
    "print(numero_decimal)"
   ]
  },
  {
   "cell_type": "markdown",
   "metadata": {},
   "source": [
    "# Funciones"
   ]
  },
  {
   "cell_type": "code",
   "execution_count": 47,
   "metadata": {},
   "outputs": [
    {
     "name": "stdout",
     "output_type": "stream",
     "text": [
      "Buenas tardes, penguins!\n",
      "Esta es otra funcion\n"
     ]
    }
   ],
   "source": [
    "# Función con texto\n",
    "\n",
    "def mi_funcion():\n",
    "    print(\"Buenas tardes, penguins!\")\n",
    "\n",
    "def otra_funcion():\n",
    "    print(\"Esta es otra funcion\")\n",
    "\n",
    "mi_funcion()\n",
    "otra_funcion()"
   ]
  },
  {
   "cell_type": "markdown",
   "metadata": {},
   "source": [
    "## Parámetros y argumentos"
   ]
  },
  {
   "cell_type": "code",
   "execution_count": 50,
   "metadata": {},
   "outputs": [
    {
     "name": "stdout",
     "output_type": "stream",
     "text": [
      "Hola. Mi nombre es Enmanuel!\n",
      "Hola. Mi nombre es Leti!\n",
      "Hola. Mi nombre es Rey!\n"
     ]
    }
   ],
   "source": [
    "def mi_print(nombre):\n",
    "    print(\"Hola. Mi nombre es \" + nombre + \"!\")\n",
    "\n",
    "mi_print(\"Enmanuel\")\n",
    "mi_print(\"Leti\")\n",
    "mi_print(\"Rey\")"
   ]
  },
  {
   "cell_type": "code",
   "execution_count": 53,
   "metadata": {},
   "outputs": [
    {
     "name": "stdout",
     "output_type": "stream",
     "text": [
      "Hola Enmanuel. Soy Ruthie y te doy la bienvenida a Penguin!\n",
      "Hola Oscar. Soy Enri y te doy la bienvenida a Penguin!\n"
     ]
    }
   ],
   "source": [
    "def mi_print_de_bienvenida(nombre_alumno, nombre_coach):\n",
    "    print(\"Hola \" + nombre_alumno + \". Soy \" + nombre_coach + \" y te doy la bienvenida a Penguin!\")\n",
    "\n",
    "mi_print_de_bienvenida(\"Enmanuel\", \"Ruthie\")\n",
    "mi_print_de_bienvenida(\"Oscar\", \"Enri\")"
   ]
  },
  {
   "cell_type": "markdown",
   "metadata": {},
   "source": [
    "## Challenge 🤺\n",
    "\n",
    "Definir una función que tome dos números como parámetros y los imprima sumándolos."
   ]
  },
  {
   "cell_type": "code",
   "execution_count": 54,
   "metadata": {},
   "outputs": [
    {
     "name": "stdout",
     "output_type": "stream",
     "text": [
      "15\n"
     ]
    }
   ],
   "source": [
    "# Solución de Paola\n",
    "\n",
    "def suma(numero_uno, numero_dos):\n",
    "    print(numero_uno + numero_dos)\n",
    "\n",
    "suma(5, 10)"
   ]
  },
  {
   "cell_type": "code",
   "execution_count": 67,
   "metadata": {},
   "outputs": [
    {
     "data": {
      "text/plain": [
       "15"
      ]
     },
     "execution_count": 67,
     "metadata": {},
     "output_type": "execute_result"
    }
   ],
   "source": [
    "# Ejemplo de función built-in de Python: sum\n",
    "\n",
    "numeros = [1, 4, 10]\n",
    "sum(numeros)"
   ]
  },
  {
   "cell_type": "markdown",
   "metadata": {},
   "source": [
    "## Funciones: Alcance (scope)"
   ]
  },
  {
   "cell_type": "code",
   "execution_count": 65,
   "metadata": {},
   "outputs": [
    {
     "name": "stdout",
     "output_type": "stream",
     "text": [
      "2000\n",
      "0\n",
      "5\n"
     ]
    }
   ],
   "source": [
    "# Alcance local\n",
    "\n",
    "valor = 5\n",
    "\n",
    "def imprimir_precio():\n",
    "    valor = 2000\n",
    "    print(valor)\n",
    "    valor = 0\n",
    "    print(valor)\n",
    "\n",
    "imprimir_precio()\n",
    "print(valor)"
   ]
  },
  {
   "cell_type": "code",
   "execution_count": 59,
   "metadata": {},
   "outputs": [
    {
     "name": "stdout",
     "output_type": "stream",
     "text": [
      "10000\n",
      "5000\n"
     ]
    }
   ],
   "source": [
    "# Alcance global\n",
    "\n",
    "precio_global = 10000\n",
    "\n",
    "def imprimir_precio():\n",
    "    print(precio_global)\n",
    "\n",
    "imprimir_precio()\n",
    "precio_global = 5000\n",
    "imprimir_precio()"
   ]
  },
  {
   "cell_type": "markdown",
   "metadata": {},
   "source": [
    "## Challenge 🤺\n",
    "\n",
    "Escribir una función que calcule el total a abonar por IVA según un monto. La función debe recibir un monto (sin IVA), y devolver el monto a ser abonado solamente por IVA (10%). \n",
    "\n",
    "<u>Observación:</u>\n",
    "\n",
    "1. Para redondear un número, utilizamos la función `round()`.\n",
    "2. Para convertir a texto un número, utilizamos la función `str()`."
   ]
  },
  {
   "cell_type": "code",
   "execution_count": 68,
   "metadata": {},
   "outputs": [
    {
     "name": "stdout",
     "output_type": "stream",
     "text": [
      "1000\n"
     ]
    }
   ],
   "source": [
    "# Solucion de Leti\n",
    "\n",
    "def taxit(monto):\n",
    "    iva = monto / 11\n",
    "    print(round(iva))\n",
    "\n",
    "taxit(11000)"
   ]
  },
  {
   "cell_type": "code",
   "execution_count": 69,
   "metadata": {},
   "outputs": [
    {
     "name": "stdout",
     "output_type": "stream",
     "text": [
      "El monto del IVA es: 110\n"
     ]
    }
   ],
   "source": [
    "# Solucion de Manu\n",
    "\n",
    "precio = int(input(\"Escriba el precio a pagar: \"))\n",
    "\n",
    "def kore():\n",
    "    iva = precio * 0.11\n",
    "    print(\"El monto del IVA es: \" + str(round(iva)))\n",
    "\n",
    "kore()"
   ]
  },
  {
   "cell_type": "code",
   "execution_count": 70,
   "metadata": {},
   "outputs": [
    {
     "name": "stdout",
     "output_type": "stream",
     "text": [
      "Querido cliente, lo que te robamos en iva es 11000\n"
     ]
    }
   ],
   "source": [
    "# Solucion de Tena\n",
    "\n",
    "def lo_que_te_roba_itau(costo):\n",
    "    cuchillo_a_la_billetera = costo * 0.11\n",
    "    circulito = round(cuchillo_a_la_billetera)\n",
    "    la_mentira_de_itau_texto = str(circulito)\n",
    "    print(\"Querido cliente, lo que te robamos en iva es \" + la_mentira_de_itau_texto)\n",
    "\n",
    "lo_que_te_roba_itau(100000)"
   ]
  },
  {
   "cell_type": "markdown",
   "metadata": {},
   "source": [
    "# Condicionales"
   ]
  },
  {
   "cell_type": "code",
   "execution_count": 75,
   "metadata": {},
   "outputs": [
    {
     "name": "stdout",
     "output_type": "stream",
     "text": [
      "Jubilada\n"
     ]
    }
   ],
   "source": [
    "edad_laboral = 65\n",
    "\n",
    "if edad_laboral < 18:\n",
    "    print(\"Menor de edad\")\n",
    "elif edad_laboral >= 65:\n",
    "    print(\"Jubilada\")\n",
    "else:\n",
    "    print(\"Activo laboralmente\")"
   ]
  }
 ],
 "metadata": {
  "interpreter": {
   "hash": "aee8b7b246df8f9039afb4144a1f6fd8d2ca17a180786b69acc140d282b71a49"
  },
  "kernelspec": {
   "display_name": "Python 3.9.10 64-bit",
   "language": "python",
   "name": "python3"
  },
  "language_info": {
   "codemirror_mode": {
    "name": "ipython",
    "version": 3
   },
   "file_extension": ".py",
   "mimetype": "text/x-python",
   "name": "python",
   "nbconvert_exporter": "python",
   "pygments_lexer": "ipython3",
   "version": "3.9.10"
  },
  "orig_nbformat": 4
 },
 "nbformat": 4,
 "nbformat_minor": 2
}
