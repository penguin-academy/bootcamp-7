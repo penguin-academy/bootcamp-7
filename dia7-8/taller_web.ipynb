{
 "cells": [
  {
   "cell_type": "markdown",
   "metadata": {},
   "source": [
    "#  Diccionarios\n",
    "\n",
    "Compuestos por `clave` y `valor`, son tipos de datos que se alojan en una variable y manipulados mediante la sintaxis:\n",
    "\n",
    "`mi_dicionario = {'clave': 'valor'}`\n",
    "\n",
    "`print(mi_diccionario[clave])`\n",
    "\n",
    "`$valor`\n",
    "\n",
    "Imagen 01"
   ]
  },
  {
   "cell_type": "code",
   "execution_count": 15,
   "metadata": {},
   "outputs": [
    {
     "name": "stdout",
     "output_type": "stream",
     "text": [
      "{'nombre': 'Steven Rey', 'apellido': 'Britez Toledo', 'edad': 24, 'celular': 59598518763}\n",
      "-----------\n",
      " Hola, yo soy Steven Rey, y tengo 24 años.\n"
     ]
    },
    {
     "data": {
      "text/plain": [
       "'\\nEjercicio Desarrollado\\n\\n'"
      ]
     },
     "execution_count": 15,
     "metadata": {},
     "output_type": "execute_result"
    }
   ],
   "source": [
    "datos_personales = {\n",
    "    'nombre': 'Steven Rey',\n",
    "    'apellido': 'Britez Toledo',\n",
    "    'edad': 24,\n",
    "    'celular': 59598518763\n",
    "}\n",
    "\n",
    "print(datos_personales)\n",
    "\n",
    "print('-----------')\n",
    "\n",
    "mi_frase = f\" Hola, yo soy {datos_personales['nombre']}, y tengo {datos_personales['edad']} años.\"\n",
    "print(mi_frase)\n"
   ]
  },
  {
   "cell_type": "markdown",
   "metadata": {},
   "source": [
    "### Ejercicio:\n",
    "\n",
    "Agregar al diccionario anterior la clave \"hobbie\" y rellenar con datos personales para crear la siguiente concatenación: \"Hola, mi nombre es `nombre`, me gusta `hobbie` y estoy acá para aprender lo básico del desarrollo web\"."
   ]
  },
  {
   "cell_type": "markdown",
   "metadata": {},
   "source": [
    "# Librerías\n",
    "\n",
    "Código externo que realiza funciones de apoyo a nuestro código. Se compone de la palabra reservada `import`.\n",
    "\n",
    "`import x` (Importa la librería completa, time, requests)\n",
    "\n",
    "`import x as alias` (Importa la librería y se referencia con otro nombre)\n",
    "\n",
    "IMAGEN 02 y 03\n"
   ]
  },
  {
   "cell_type": "markdown",
   "metadata": {},
   "source": [
    "## APIS\n",
    "\n",
    "Application Programming Interface. It can be defined as a set of protocols, procedures, and tools that allow interaction between two applications.\n",
    "\n",
    "Serie de protocolos, procedimientos y herramientas que hacen que dos aplicaciones se comuniquen entre si. \n",
    "\n",
    "Las API conectan diferentes partes de una plataforma de software con el fin de garantizar que la información acabe en el lugar adecuado.\n",
    "\n",
    "IMAGEN 04\n",
    "\n",
    "Usos: \n",
    "\n",
    "Compartir información de vuelos entre líneas aéreas y sitios de viajes\n",
    "Usar Google Maps en una aplicación de uso compartido de transporte\n",
    "Crear bots de chat en un servicio de mensajería\n",
    "Integrar vídeos de YouTube en una página web\n",
    "Automatizar flujos de trabajo entre herramientas de software B2B\n",
    "\n",
    "Para buscar, recopilar y compartir datos\n",
    "Para reducir el trabajo repetitivo\n",
    "Para fomentar la innovación y la colaboración\n",
    "\n",
    "EN ESTE CASO. Vamos a usar una para obtener datos\n"
   ]
  },
  {
   "cell_type": "code",
   "execution_count": 16,
   "metadata": {},
   "outputs": [
    {
     "name": "stdout",
     "output_type": "stream",
     "text": [
      "{'Title': 'The Avengers', 'Year': '2012', 'Rated': 'PG-13', 'Released': '04 May 2012', 'Runtime': '143 min', 'Genre': 'Action, Adventure, Sci-Fi', 'Director': 'Joss Whedon', 'Writer': 'Joss Whedon, Zak Penn', 'Actors': 'Robert Downey Jr., Chris Evans, Scarlett Johansson', 'Plot': \"Earth's mightiest heroes must come together and learn to fight as a team if they are going to stop the mischievous Loki and his alien army from enslaving humanity.\", 'Language': 'English, Russian, Hindi', 'Country': 'United States', 'Awards': 'Nominated for 1 Oscar. 38 wins & 80 nominations total', 'Poster': 'https://m.media-amazon.com/images/M/MV5BNDYxNjQyMjAtNTdiOS00NGYwLWFmNTAtNThmYjU5ZGI2YTI1XkEyXkFqcGdeQXVyMTMxODk2OTU@._V1_SX300.jpg', 'Ratings': [{'Source': 'Internet Movie Database', 'Value': '8.0/10'}, {'Source': 'Rotten Tomatoes', 'Value': '91%'}, {'Source': 'Metacritic', 'Value': '69/100'}], 'Metascore': '69', 'imdbRating': '8.0', 'imdbVotes': '1,339,955', 'imdbID': 'tt0848228', 'Type': 'movie', 'DVD': '25 Sep 2012', 'BoxOffice': '$623,357,910', 'Production': 'N/A', 'Website': 'N/A', 'Response': 'True'}\n",
      "--------------\n",
      "{'Actors': 'Robert Downey Jr., Chris Evans, Scarlett Johansson',\n",
      " 'Awards': 'Nominated for 1 Oscar. 38 wins & 80 nominations total',\n",
      " 'BoxOffice': '$623,357,910',\n",
      " 'Country': 'United States',\n",
      " 'DVD': '25 Sep 2012',\n",
      " 'Director': 'Joss Whedon',\n",
      " 'Genre': 'Action, Adventure, Sci-Fi',\n",
      " 'Language': 'English, Russian, Hindi',\n",
      " 'Metascore': '69',\n",
      " 'Plot': \"Earth's mightiest heroes must come together and learn to fight as a \"\n",
      "         'team if they are going to stop the mischievous Loki and his alien '\n",
      "         'army from enslaving humanity.',\n",
      " 'Poster': 'https://m.media-amazon.com/images/M/MV5BNDYxNjQyMjAtNTdiOS00NGYwLWFmNTAtNThmYjU5ZGI2YTI1XkEyXkFqcGdeQXVyMTMxODk2OTU@._V1_SX300.jpg',\n",
      " 'Production': 'N/A',\n",
      " 'Rated': 'PG-13',\n",
      " 'Ratings': [{'Source': 'Internet Movie Database', 'Value': '8.0/10'},\n",
      "             {'Source': 'Rotten Tomatoes', 'Value': '91%'},\n",
      "             {'Source': 'Metacritic', 'Value': '69/100'}],\n",
      " 'Released': '04 May 2012',\n",
      " 'Response': 'True',\n",
      " 'Runtime': '143 min',\n",
      " 'Title': 'The Avengers',\n",
      " 'Type': 'movie',\n",
      " 'Website': 'N/A',\n",
      " 'Writer': 'Joss Whedon, Zak Penn',\n",
      " 'Year': '2012',\n",
      " 'imdbID': 'tt0848228',\n",
      " 'imdbRating': '8.0',\n",
      " 'imdbVotes': '1,339,955'}\n",
      "--------------\n",
      "La URL de imagen del poster es:  https://m.media-amazon.com/images/M/MV5BNDYxNjQyMjAtNTdiOS00NGYwLWFmNTAtNThmYjU5ZGI2YTI1XkEyXkFqcGdeQXVyMTMxODk2OTU@._V1_SX300.jpg\n",
      "--------------\n",
      "$623,357,910\n",
      "<class 'str'>\n",
      "623,357,910\n",
      "--------------\n",
      "623357910\n",
      "<class 'str'>\n",
      "--------------\n",
      "--------------\n",
      "7000.0\n",
      "--------------\n",
      "lo gastado por la pelicula The Avengersen Gs es 4363505370000\n",
      "--------------\n",
      "{'Error': 'Incorrect IMDb ID.', 'Response': 'False'}\n",
      "{'Error': 'Incorrect IMDb ID.', 'Response': 'False'}\n",
      "{'Error': 'Incorrect IMDb ID.', 'Response': 'False'}\n"
     ]
    }
   ],
   "source": [
    "import requests\n",
    "\n",
    "from pprint import pprint \n",
    "\n",
    "# La clave para la API\n",
    "API_KEY= \"595695c3\" \n",
    "\n",
    "# Comenzar a configurar parametros\n",
    "\n",
    "# Título de la pelicula\n",
    "titulo= \"Avengers\"\n",
    "# Se crea una URL\n",
    "basic_call=\"http://www.omdbapi.com/?apikey=\"+API_KEY+\"&t=\"+titulo \n",
    "# Extraemos todos los datos_de_pelicula recibidos y convertimos en un diccionario\n",
    "datos_de_pelicula= requests.get(basic_call)\n",
    "datos_de_pelicula=datos_de_pelicula.json()\n",
    "\n",
    "\n",
    "print(datos_de_pelicula)\n",
    "print(\"--------------\")\n",
    "pprint(datos_de_pelicula)\n",
    "print(\"--------------\")\n",
    "\n",
    "url_imagen = datos_de_pelicula['Poster']\n",
    "\n",
    "# Abrimos la URL en el navegador con CTRL + Clic\n",
    "# TARAN\n",
    "print(\"La URL de imagen del poster es: \", url_imagen)\n",
    "print(\"--------------\")\n",
    "\n",
    "\n",
    "# Funciones con limpieza de datos\n",
    "# Vamos a imprimir el monto gastado\n",
    "monto_recaudado = datos_de_pelicula['BoxOffice']\n",
    "print(monto_recaudado)\n",
    "print(type(monto_recaudado))\n",
    "\n",
    "# Forma #1: limpiar el \"$\" para tener solo datos numéricos\n",
    "quitar_excedente = monto_recaudado[1:]\n",
    "print(quitar_excedente)\n",
    "print(\"--------------\")\n",
    "\n",
    "#Forma 2: .replace(\"caracter a reemplazar\",\"reemplazo\")\n",
    "quitar_caracter = monto_recaudado.replace(\"$\",\"\").replace(\",\",\"\")\n",
    "print(quitar_caracter)\n",
    "print(type(quitar_caracter))\n",
    "monto_total_usd = quitar_caracter\n",
    "print(\"--------------\")\n",
    "\n",
    "\n",
    "llamada_a_datos = \"https://dolar.melizeche.com/api/1.0/\"\n",
    "obtencion_datos = requests.get(llamada_a_datos)\n",
    "datos_json = obtencion_datos.json()\n",
    "print(\"--------------\")\n",
    "cotizacion_venta_maxicambios = datos_json[\"dolarpy\"][\"maxicambios\"][\"venta\"]\n",
    "pprint(cotizacion_venta_maxicambios)\n",
    "print(\"--------------\")\n",
    "calculo_total = int(cotizacion_venta_maxicambios) * int(monto_total_usd)\n",
    "print(f\"lo gastado por la pelicula {datos_de_pelicula['Title']}en Gs es {calculo_total}\")\n",
    "\n",
    "\n",
    "\n",
    "\n",
    "# Ejercicio si alcanza antes del mediodia: hacer una funcion que reciba como parametro el titulo \n",
    "# de la pelicula y que retorne todo el dato que devuelve la pagina\n",
    "# en formato json()\n",
    "# tambien pedir el titulo por teclado y luego llamar a la funcion\n",
    "\n",
    "print(\"--------------\")\n",
    "def peticion(titulo_e):\n",
    "    API_KEY= \"595695c3\"\n",
    "    basic_call= \"http://www.omdbapi.com/?apikey=\" + API_KEY +\"&t=\"+titulo_e\n",
    "    datos= requests.get(basic_call)\n",
    "    datos=datos.json()\n",
    "    return datos\n",
    "\n",
    "while True:\n",
    "    titulo=input(\"Ingresar un nombre de pelicula a buscar:\")\n",
    "    resultado= peticion(titulo)\n",
    "    pprint(resultado)\n",
    "\n",
    "    otra=input(\"Desea informacion de otra pelicula? \\n \\t \\ Ingrese SI o NO: \")\n",
    "    if otra==\"NO\":\n",
    "        break\n"
   ]
  },
  {
   "cell_type": "markdown",
   "metadata": {},
   "source": [
    "### Ejercicio \n",
    "\n",
    "Ir a la página de <u>dolar.melizeche.com</u> en el navegador. Elegir una casa de cambio y sacar la cotización de una Compra o Venta. Convertir el monto anterior en Gs. multiplicando el costo de la pelicula en dólares por su equivalente en Gs. Y mostrar lo gastado en la pelicula con el siguiente mensaje: \"Lo gastado en la pelicula `nombre de pelicula` en Gs. es de `monto convertido a gs`\"."
   ]
  },
  {
   "cell_type": "markdown",
   "metadata": {},
   "source": [
    "---"
   ]
  },
  {
   "cell_type": "markdown",
   "metadata": {},
   "source": []
  },
  {
   "cell_type": "markdown",
   "metadata": {},
   "source": [
    "# HTML\n",
    "\n",
    "Concepto base: \n",
    "\n",
    "Las etiquetas HTML son pequeños bloques de código, que indican al navegador como debe interpretar el contenido recogido entre dichas etiquetas. Por ejemplo, si queremos «pintar» un párrafo de texto, hay una etiqueta especifica para que el navegador interprete ese texto como un párrafo.\n",
    "\n",
    "Generalmente las etiquetas HTML están compuestas por una etiqueta de apertura, y una etiqueta de cierre. Aunque hay excepciones, como por ejemplo la etiqueta para cargar una imagen que son llamadas etiquetas huérfanas, ya que solo tienen etiqueta de apertura.\n",
    "\n",
    "\n",
    "Diferenciación etiquetas y atributos.\n",
    "\n",
    "https://carontestudio.com/blog/listado-de-etiquetas-html/\n",
    "\n",
    "-Etiquetas fundamentales o raiz html /html\n",
    "-Metadatos head title\n",
    "-Etiquetas de secciones body h1 header footer\n",
    "-Etiquetas de agrupacion de contenido p hr ol ul div\n",
    "-Etiquetas para incrustar contenido img iframe \n",
    "-Etiquetas para crear formularios form input button\n",
    "\n",
    "IMAGEN 05\n",
    "\n",
    "\n",
    "# CSS\n",
    "\n",
    "Concepto base con etiquetas `h1`-`h6`, `p`.\n",
    "\n",
    "IMAGEN 06"
   ]
  },
  {
   "cell_type": "markdown",
   "metadata": {},
   "source": [
    "## Conectando páginas HTML\n",
    "\n",
    "### URLS (Que son las URLs y como funcionan)\n",
    "\n",
    "IMAGEN 07\n",
    "\n",
    "### Flask (Framework (concepto)\n",
    "\n",
    "IMAGEN 08\n",
    "\n"
   ]
  },
  {
   "cell_type": "code",
   "execution_count": 13,
   "metadata": {},
   "outputs": [],
   "source": [
    "# Paso 1: Instalar dependencias en la terminal\n",
    "# $ pip install Flask\n",
    "# Paso 2: Crear nueva carpeta \"Taller\" en la carpeta principal\n",
    "# Paso 2.1: Crear dentro de \"taller\" una carpeta llamada \"templates\" y guardar dentro el archivo index.html creado anteriormente\n",
    "# Paso 2.2: Crear directorio \"static\" dentro de \"taller\", crear 3 carpetas nuevas: css, images y js.\n",
    "# Paso 2.3: Guardar el archivo css creado anteriormente en css.\n",
    "# Paso 2.4: Guardar el archivo jpg creado en images\n",
    "# Paso 3: Crear archivo \"app.py\"\n",
    "# Paso 4: Copiar el código de abajo.\n",
    "\n",
    "# Paso 5: $ export FLASK_ENV=development\n",
    "# $ flask run\n"
   ]
  },
  {
   "cell_type": "code",
   "execution_count": null,
   "metadata": {},
   "outputs": [],
   "source": [
    "from flask import Flask\n",
    "\n",
    "app = Flask(__name__)\n",
    "\n",
    "@app.route(\"/\")\n",
    "def hello_world():\n",
    "    return \"<p>Hola Penguins!</p>\"\n",
    "\n",
    "\n",
    "if __name__ == \"__main__\":\n",
    "    app.run(debug=True) #Para ejecutar\n"
   ]
  },
  {
   "cell_type": "markdown",
   "metadata": {},
   "source": [
    "### Creamos nuevas rutas para hacer escape"
   ]
  },
  {
   "cell_type": "code",
   "execution_count": null,
   "metadata": {},
   "outputs": [],
   "source": [
    "#importo requests, escape y urlfor\n",
    "\n",
    "@app.route('/coach') #Creamos la ruta coach\n",
    "def hola_coaches(): #Definimos la funcion que sera devuelta\n",
    "    nombre = 'Steven' #Inicializamos un dato\n",
    "    devolver = request.args.get('nombre',nombre) #Definimos que sera devuelto y renderizado \n",
    "    return f'Hola, {escape(devolver)} ' #Retornamos al html"
   ]
  },
  {
   "cell_type": "markdown",
   "metadata": {},
   "source": [
    "### ¿Cómo enlazo a estas URLs mis páginas HTML creadas?"
   ]
  },
  {
   "cell_type": "code",
   "execution_count": null,
   "metadata": {},
   "outputs": [],
   "source": [
    "@app.route('/inicio') #Creamos la ruta inicio\n",
    "def inicio(): \n",
    "    return render_template('inicio.html')\n",
    "\n",
    "@app.route('/contacto') #Creamos la ruta contacto\n",
    "def contacto():\n",
    "    return render_template('contacto.html')\n",
    "\n"
   ]
  },
  {
   "cell_type": "markdown",
   "metadata": {},
   "source": [
    "# Código desarrollado parte 1 app.py"
   ]
  },
  {
   "cell_type": "code",
   "execution_count": null,
   "metadata": {},
   "outputs": [],
   "source": [
    "from flask import Flask, escape, request, render_template, url_for\n",
    "import requests #Importar la libreria\n",
    "\n",
    "app = Flask(__name__) #Inicializamos la app con el nombre.\n",
    "\n",
    "@app.route('/')\n",
    "def hola():\n",
    "    return 'Hi Penguins!' #Retorna Hi Penguins!\n",
    "\n",
    "@app.route('/coach') #Creamos la ruta coach\n",
    "def hola_coaches(): #Definimos la funcion que sera devuelta\n",
    "    nombre = 'Stevencin' #Inicializamos un dato\n",
    "    devolver = request.args.get('nombre',nombre) #Definimos que sera devuelto y renderizado \n",
    "    return f'Hola, {escape(devolver)} ' #Retornamos al html\n",
    "\n",
    "@app.route('/inicio') #Creamos la ruta inicio\n",
    "def inicio(): \n",
    "    return render_template('inicio.html')\n",
    "\n",
    "@app.route('/contacto') #Creamos la ruta contacto\n",
    "def contacto():\n",
    "    API_KEY= \"595695c3\" # API key que se consigue en ombdapi.com tras registro\n",
    "    titulo = \"Harry Potter\" \n",
    "    basic_call= \"http://www.omdbapi.com/?apikey=\" + API_KEY +\"&t=\"+titulo # Concatenación de URL a la que se realizará la búsqueda\n",
    "    datos= requests.get(basic_call) # Se ingresa en datos los datos de respuests\n",
    "    datos=datos.json() # Se convierte a JSON\n",
    "    titulo_de_pelicula = datos['Title'] # Extraigo el título\n",
    "    director_de_pelicula = datos['Director'] # Extraigo el director\n",
    "\n",
    "    datos_filtrados = {'titulo':titulo_de_pelicula, 'director':director_de_pelicula } # Creo el diccionario datos filtrados en el que alojo clave,valor\n",
    "    return render_template('contacto.html',  datos = datos_filtrados  )\n",
    "\n",
    "@app.route('/curriculum') #Creamos la ruta curriculum\n",
    "def cv(): \n",
    "    return render_template('cv.html')\n",
    "\n",
    "if __name__ == \"__main__\":\n",
    "    app.run(debug=True) #Para ejecutar\n",
    "\n",
    "\n"
   ]
  },
  {
   "cell_type": "markdown",
   "metadata": {},
   "source": [
    "Desafio:\n",
    "\n",
    "Crear tu propio Curriculum Vitae NO reinventando la rueda con el siguiente recurso:\n",
    "Copy & Paste"
   ]
  },
  {
   "cell_type": "markdown",
   "metadata": {},
   "source": [
    "\n",
    "Pueden encontrar modelos de inspiración acá:\n",
    "https://devsnap.me/html-resume-templates\n",
    "\n",
    "Mas Info: https://www.fullstackpython.com/\n"
   ]
  },
  {
   "cell_type": "markdown",
   "metadata": {},
   "source": [
    "GITHUB y Google el VIERNES\n",
    "\n",
    "Github Crearse cuenta\n",
    "Nuevo Repositorio\n",
    "Configuraciones > Developer > Personal Access Token >\n",
    "Git Clone > Pegar PAT \n",
    "\n",
    "git config --global user.name nombre\n",
    "git config --global user.email \n",
    "\n",
    "GIT STATUS\n",
    "GIT ADD\n",
    "GIT COMMIT\n",
    "GIT PUSH"
   ]
  },
  {
   "cell_type": "markdown",
   "metadata": {},
   "source": []
  }
 ],
 "metadata": {
  "interpreter": {
   "hash": "38d03cbb9880a3f8b3d8d7f10f691621c16eba270b2b192e9667439b7e8a7db8"
  },
  "kernelspec": {
   "display_name": "Python 3.8.6 64-bit",
   "language": "python",
   "name": "python3"
  },
  "language_info": {
   "codemirror_mode": {
    "name": "ipython",
    "version": 3
   },
   "file_extension": ".py",
   "mimetype": "text/x-python",
   "name": "python",
   "nbconvert_exporter": "python",
   "pygments_lexer": "ipython3",
   "version": "3.8.10"
  },
  "orig_nbformat": 4
 },
 "nbformat": 4,
 "nbformat_minor": 2
}
