{
 "cells": [
  {
   "cell_type": "markdown",
   "metadata": {},
   "source": [
    "# Condicionales"
   ]
  },
  {
   "cell_type": "code",
   "execution_count": 3,
   "metadata": {},
   "outputs": [
    {
     "name": "stdout",
     "output_type": "stream",
     "text": [
      "Activo laboralmente\n"
     ]
    }
   ],
   "source": [
    "edad_laboral = 18\n",
    "\n",
    "if edad_laboral < 18:\n",
    "    print(\"Menor de edad\")\n",
    "elif edad_laboral >= 65:\n",
    "    print(\"Jubilada\")\n",
    "else:\n",
    "    print(\"Activa laboralmente\")"
   ]
  },
  {
   "cell_type": "markdown",
   "metadata": {},
   "source": [
    "## Dos condiciones a la vez"
   ]
  },
  {
   "cell_type": "code",
   "execution_count": 54,
   "metadata": {},
   "outputs": [
    {
     "name": "stdout",
     "output_type": "stream",
     "text": [
      "Activa laboralmente\n",
      "True\n"
     ]
    }
   ],
   "source": [
    "edad_laboral = 40\n",
    "trabaja = True # Booleano\n",
    "\n",
    "if edad_laboral < 18:\n",
    "    print(\"Estudiante menor de edad\")\n",
    "elif edad_laboral < 65 and trabaja == True:\n",
    "    print(\"Activa laboralmente\")\n",
    "elif edad_laboral < 65 and trabaja == False:\n",
    "    print(\"Estudiante\")\n",
    "else:\n",
    "    print(\"Jubilada\")\n",
    "\n",
    "print(edad_laboral > 18)"
   ]
  },
  {
   "cell_type": "markdown",
   "metadata": {},
   "source": [
    "## Challenge 🤺\n",
    "\n",
    "Escribir un programa en el que se pregunte al usuario por una temperatura (en grados Celsius), imprima la temperatura escrita, y luego clasificar la temperatura ingresada en 3 niveles:\n",
    "\n",
    "1. Entre `-10` y `18` grados, que imprima \"Fresquete\".\n",
    "2. Entre `19` y `30` grados, que imprima \"Calor'i\".\n",
    "3. Entre `31` y `45` grados, que imprima \"Hakuuuuuu\".\n",
    "4. Para todo lo demás, imprimir \"Ñamano mba'e!\"."
   ]
  },
  {
   "cell_type": "code",
   "execution_count": 7,
   "metadata": {},
   "outputs": [
    {
     "name": "stdout",
     "output_type": "stream",
     "text": [
      "15\n",
      "Fresquete\n"
     ]
    }
   ],
   "source": [
    "# Solución de Norma\n",
    "\n",
    "temperatura = int(input(\"Cuantos grados hacen?\"))\n",
    "print(temperatura)\n",
    "\n",
    "if temperatura >= -10 and temperatura <= 18:\n",
    "    print(\"Fresquete\")\n",
    "elif temperatura >= 19 and temperatura <= 30:\n",
    "    print(\"Calor\")\n",
    "elif temperatura >= 31 and temperatura <= 45:\n",
    "    print(\"hakuuu\")\n",
    "else:\n",
    "    print(\"Ñamano mba'e\")"
   ]
  },
  {
   "cell_type": "code",
   "execution_count": 10,
   "metadata": {},
   "outputs": [
    {
     "name": "stdout",
     "output_type": "stream",
     "text": [
      "Refreska'i\n"
     ]
    }
   ],
   "source": [
    "# Solución de José\n",
    "\n",
    "def termostato(temperatura):\n",
    "    if temperatura >= -10 and temperatura <= 18:\n",
    "        print(\"Refreska'i\")\n",
    "    elif temperatura >= 19 and temperatura <= 30:\n",
    "        print(\"Calorcito\")\n",
    "    elif temperatura >= 31 and temperatura <= 45:\n",
    "        print(\"Hakuroooooo\")\n",
    "    else:\n",
    "        print(\"Ñamano mba'e\")\n",
    "\n",
    "# termostato(int(input(\"Ingresar la temperatura por favor: \")))\n",
    "termostato(10)"
   ]
  },
  {
   "cell_type": "markdown",
   "metadata": {},
   "source": [
    "# Bucles condicionales: `while`"
   ]
  },
  {
   "cell_type": "code",
   "execution_count": 13,
   "metadata": {},
   "outputs": [
    {
     "name": "stdout",
     "output_type": "stream",
     "text": [
      "7\n",
      "7\n",
      "5\n",
      "4\n",
      "5\n",
      "2\n",
      "3\n",
      "2\n",
      "3\n",
      "4\n",
      "5\n",
      "6\n",
      "2\n",
      "3\n",
      "4\n",
      "5\n",
      "2\n",
      "34\n",
      "0\n",
      "Sali de mi bluclee\n"
     ]
    }
   ],
   "source": [
    "numero = None\n",
    "\n",
    "while numero != 0:\n",
    "    numero = int(input(\"Introduce un número: \"))\n",
    "    print(numero)\n",
    "\n",
    "print(\"Salí de mi bucle\")"
   ]
  },
  {
   "cell_type": "code",
   "execution_count": 16,
   "metadata": {},
   "outputs": [
    {
     "name": "stdout",
     "output_type": "stream",
     "text": [
      "hola,chau\n",
      "hola \n",
      "Hola\n",
      "Chau\n",
      "chau.\n"
     ]
    }
   ],
   "source": [
    "while True:\n",
    "    palabra = input(\"Introduce una palabra\")\n",
    "    if palabra == \"hola\" or palabra == \"chau\":\n",
    "        break\n",
    "    print(palabra)"
   ]
  },
  {
   "cell_type": "markdown",
   "metadata": {},
   "source": [
    "## Challenge 🤺\n",
    "\n",
    "Escribir un programa que almacene una contraseña en una variable, y pregunte al usuario por la contraseña hasta que introduzca la contraseña correcta."
   ]
  },
  {
   "cell_type": "code",
   "execution_count": null,
   "metadata": {},
   "outputs": [],
   "source": [
    "# Solución de Fabri (1)\n",
    "\n",
    "while True:\n",
    "    contrasena = input(\"Introduce una contrasena: \")\n",
    "\n",
    "    if contrasena == \"octanos\":\n",
    "        print(\"Correcta\")\n",
    "        break\n",
    "    print(\"Incorrecta\")"
   ]
  },
  {
   "cell_type": "code",
   "execution_count": null,
   "metadata": {},
   "outputs": [],
   "source": [
    "# Solución de Fabri (2)\n",
    "\n",
    "contrasena = None\n",
    "\n",
    "while contrasena != \"dc\":\n",
    "    contrasena = input(\"Insertar contrasena: \")\n",
    "    if contrasena != \"dc\":\n",
    "        print(\"contrasena incorrecta\")\n",
    "    print(\"mbaeteko?\")"
   ]
  },
  {
   "cell_type": "code",
   "execution_count": 17,
   "metadata": {},
   "outputs": [
    {
     "name": "stdout",
     "output_type": "stream",
     "text": [
      "contrasenha incorrecta\n",
      "contrasenha incorrecta\n",
      "contrasenha incorrecta\n",
      "contrasenha correcta\n"
     ]
    }
   ],
   "source": [
    "# Solución de Adri\n",
    "\n",
    "while True:\n",
    "    password = input(\"introduce una contrasenha\")\n",
    "    if password == \"calamardo\":\n",
    "        print(\"contrasenha correcta\")\n",
    "        break\n",
    "    else:\n",
    "        print(\"contrasenha incorrecta\")"
   ]
  },
  {
   "cell_type": "markdown",
   "metadata": {},
   "source": [
    "# Bucles iterativos: `for`"
   ]
  },
  {
   "cell_type": "markdown",
   "metadata": {},
   "source": [
    "## Listas"
   ]
  },
  {
   "cell_type": "code",
   "execution_count": 25,
   "metadata": {},
   "outputs": [
    {
     "name": "stdout",
     "output_type": "stream",
     "text": [
      "naranjas\n",
      "kiwis\n",
      "4\n",
      "['naranjas', 'peras', 'kiwis', 'sandias', 'ciruelas']\n",
      "['naranjas', 'duraznos', 'peras', 'kiwis', 'ciruelas']\n",
      "['naranjas', 'peras', 'kiwis', 'ciruelas']\n"
     ]
    }
   ],
   "source": [
    "lista_frutas = [\"naranjas\", \"peras\", \"kiwis\", \"sandias\"]\n",
    "\n",
    "# Diferentes tipos de datos en listas\n",
    "lista_booleana = [True, False, False, True]\n",
    "lista_numeros = [1.99, 2, 3, 4]\n",
    "lista_variada = [\"peras\", 10, False]\n",
    "\n",
    "# Acceder a elementos de la lista\n",
    "print(lista_frutas[0])\n",
    "print(lista_frutas[2])\n",
    "\n",
    "# Contar elementos de una lista\n",
    "print(len(lista_frutas))\n",
    "\n",
    "# Agregar elemento a una lista\n",
    "lista_frutas.append(\"ciruelas\")\n",
    "print(lista_frutas)\n",
    "\n",
    "# Agregar elemento eligiendo la posición\n",
    "lista_frutas.insert(1, \"duraznos\")\n",
    "\n",
    "# Eliminar elemento por valor\n",
    "lista_frutas.remove(\"sandias\")\n",
    "print(lista_frutas)\n",
    "\n",
    "# Eliminar por posición\n",
    "lista_frutas.pop(1)\n",
    "print(lista_frutas)"
   ]
  },
  {
   "cell_type": "markdown",
   "metadata": {},
   "source": [
    "## Challenge 🤺\n",
    "\n",
    "Crear una lista de integrantes de la mesa.\n",
    "\n",
    "**Imprimir**: \n",
    "- Integrante 1: Fabri\n",
    "- Integrante 2: Clau\n",
    "- ..."
   ]
  },
  {
   "cell_type": "code",
   "execution_count": 26,
   "metadata": {},
   "outputs": [
    {
     "name": "stdout",
     "output_type": "stream",
     "text": [
      "Manu\n",
      "Jose\n",
      "Claudia\n",
      "Luis\n",
      "Angy\n"
     ]
    }
   ],
   "source": [
    "# Solución de Angy\n",
    "\n",
    "lista_integrantes = [\"Manu\", \"Jose\", \"Claudia\", \"Luis\", \"Angy\"]\n",
    "print(lista_integrantes[0])\n",
    "print(lista_integrantes[1])\n",
    "print(lista_integrantes[2])\n",
    "print(lista_integrantes[3])\n",
    "print(lista_integrantes[4])"
   ]
  },
  {
   "cell_type": "code",
   "execution_count": 28,
   "metadata": {},
   "outputs": [
    {
     "name": "stdout",
     "output_type": "stream",
     "text": [
      "Integrante 1 es Jony\n",
      "Integrante 2 es Espacio_1\n",
      "Integrante 3 es Espacio_2\n",
      "Integrante 4 es Espacio_3\n"
     ]
    }
   ],
   "source": [
    "# Solución de Jony\n",
    "\n",
    "personas_mesa = [\"Jony\", \"Espacio_1\", \"Espacio_2\", \"Espacio_3\"]\n",
    "indice = 0\n",
    "longitud_lista = len(personas_mesa)\n",
    "test = 0\n",
    "\n",
    "while test != longitud_lista:\n",
    "    test = test + 1\n",
    "    print(\"Integrante\", test, \"es\", personas_mesa[indice])\n",
    "    indice = indice + 1"
   ]
  },
  {
   "cell_type": "markdown",
   "metadata": {},
   "source": [
    "# Volviendo a `for`"
   ]
  },
  {
   "cell_type": "code",
   "execution_count": 35,
   "metadata": {},
   "outputs": [
    {
     "name": "stdout",
     "output_type": "stream",
     "text": [
      "p\n",
      "e\n",
      "n\n",
      "g\n",
      "u\n",
      "i\n",
      "n\n"
     ]
    }
   ],
   "source": [
    "palabra = \"penguin\"\n",
    "\n",
    "for letra in palabra:\n",
    "    print(letra)"
   ]
  },
  {
   "cell_type": "code",
   "execution_count": 38,
   "metadata": {},
   "outputs": [
    {
     "name": "stdout",
     "output_type": "stream",
     "text": [
      "- Pan\n",
      "- Mantequilla\n",
      "- Arandanos\n",
      "- Miel\n"
     ]
    }
   ],
   "source": [
    "lista_compras = [\"Pan\", \"Mantequilla\", \"Arándanos\", \"Miel\"]\n",
    "\n",
    "for cosas in lista_compras:\n",
    "    print(\"-\", cosas)"
   ]
  },
  {
   "cell_type": "code",
   "execution_count": 41,
   "metadata": {},
   "outputs": [
    {
     "name": "stdout",
     "output_type": "stream",
     "text": [
      "Steven tqm\n",
      "Steven tqm\n",
      "Steven tqm\n"
     ]
    }
   ],
   "source": [
    "for frase in range(3):\n",
    "    print(\"Steven tqm\")"
   ]
  },
  {
   "cell_type": "markdown",
   "metadata": {},
   "source": [
    "## Challenge 🤺\n",
    "\n",
    "Escribir un programa en el que se pregunte al usuario por una frase y una letra, y muestre por pantalla el número de veces que aparece la letra en la frase."
   ]
  },
  {
   "cell_type": "code",
   "execution_count": 42,
   "metadata": {},
   "outputs": [
    {
     "name": "stdout",
     "output_type": "stream",
     "text": [
      "La cantidad de veces que la letra <o>, aparece en la frase <hello world>, es 2\n"
     ]
    }
   ],
   "source": [
    "# Solución de Clau\n",
    "\n",
    "frase = input(\"Introduzca una frase: \")\n",
    "letra_elegida = input(\"Introduzca una letra: \")\n",
    "cantidad_repeticion = 0\n",
    "\n",
    "for letra in frase:\n",
    "    if letra_elegida == letra:\n",
    "        # cantidad_repeticion += 1\n",
    "        cantidad_repeticion = cantidad_repeticion + 1\n",
    "\n",
    "print(\"La cantidad de veces que la letra <\" + letra_elegida + \">, aparece en la frase <\"+ frase+ \">, es \" + str(cantidad_repeticion))"
   ]
  },
  {
   "cell_type": "markdown",
   "metadata": {},
   "source": [
    "# Proyecto: Wordle!"
   ]
  },
  {
   "cell_type": "markdown",
   "metadata": {},
   "source": [
    "## Tipos de datos"
   ]
  },
  {
   "cell_type": "code",
   "execution_count": null,
   "metadata": {},
   "outputs": [],
   "source": [
    "palabra = \"hielo\" # tipo de dato: texto/string\n",
    "letra1 = \"h\" # str\n",
    "letra2 = \"a\" # str\n",
    "\n",
    "cesped_es_verde = True # Booleano\n",
    "cesped_es_blanco = False\n",
    "\n",
    "cantidad = 6 # numero entero: int"
   ]
  },
  {
   "cell_type": "markdown",
   "metadata": {},
   "source": [
    "## Concatenación"
   ]
  },
  {
   "cell_type": "code",
   "execution_count": null,
   "metadata": {},
   "outputs": [],
   "source": [
    "mensaje = \"Te quedan\" + cantidad + \"intentos\""
   ]
  },
  {
   "cell_type": "markdown",
   "metadata": {},
   "source": [
    "## Operadores lógicos"
   ]
  },
  {
   "cell_type": "code",
   "execution_count": 47,
   "metadata": {},
   "outputs": [
    {
     "name": "stdout",
     "output_type": "stream",
     "text": [
      "False\n",
      "True\n",
      "False\n"
     ]
    }
   ],
   "source": [
    "palabra = \"serio\"\n",
    "caracteres_de_la_palabra = [\"s\", \"e\", \"r\", \"i\", \"o\"] # lista\n",
    "\n",
    "letra1 = \"s\"\n",
    "letra2 = \"z\"\n",
    "\n",
    "letras_son_iguales = letra1 == letra2\n",
    "print(letras_son_iguales)\n",
    "\n",
    "letra_existe_en_la_palabra = letra1 in palabra\n",
    "print(letra_existe_en_la_palabra)\n",
    "\n",
    "otra_letra_existe_en_la_palabra = letra2 in palabra\n",
    "print(otra_letra_existe_en_la_palabra)"
   ]
  },
  {
   "cell_type": "markdown",
   "metadata": {},
   "source": [
    "# Condicionales"
   ]
  },
  {
   "cell_type": "code",
   "execution_count": 51,
   "metadata": {},
   "outputs": [
    {
     "name": "stdout",
     "output_type": "stream",
     "text": [
      "La letra existe.\n"
     ]
    }
   ],
   "source": [
    "if letra1 in palabra:\n",
    "    print(\"La letra existe.\")\n",
    "else:\n",
    "    print(\"La letra no coincide.\")"
   ]
  }
 ],
 "metadata": {
  "interpreter": {
   "hash": "aee8b7b246df8f9039afb4144a1f6fd8d2ca17a180786b69acc140d282b71a49"
  },
  "kernelspec": {
   "display_name": "Python 3.9.10 64-bit",
   "language": "python",
   "name": "python3"
  },
  "language_info": {
   "codemirror_mode": {
    "name": "ipython",
    "version": 3
   },
   "file_extension": ".py",
   "mimetype": "text/x-python",
   "name": "python",
   "nbconvert_exporter": "python",
   "pygments_lexer": "ipython3",
   "version": "3.9.10"
  },
  "orig_nbformat": 4
 },
 "nbformat": 4,
 "nbformat_minor": 2
}
