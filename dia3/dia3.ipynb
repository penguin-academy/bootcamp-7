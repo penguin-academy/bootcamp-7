{
 "cells": [
  {
   "cell_type": "markdown",
   "metadata": {},
   "source": [
    "# Wordle 💬\n",
    "\n",
    "Necesitamos lo siguiente:\n",
    "- Variables\n",
    "- Tipos de datos\n",
    "- Concatenar\n",
    "- Operadores logicos\n",
    "- Condicionales (control de flujo)\n",
    "- Funciones\n",
    "    - Parametros y argumentos\n",
    "    - Personalizadas y built-in\n",
    "    - Alcance: local y global\n",
    "- Bucles\n",
    "    - `while`\n",
    "    - `for`"
   ]
  },
  {
   "cell_type": "markdown",
   "metadata": {},
   "source": [
    "---"
   ]
  },
  {
   "cell_type": "markdown",
   "metadata": {},
   "source": [
    "## Variables"
   ]
  },
  {
   "cell_type": "code",
   "execution_count": 1,
   "metadata": {},
   "outputs": [],
   "source": [
    "palabra = \"calor\" # Texto / string (str)\n",
    "letra1 = \"a\"\n",
    "letra2 = \"r\""
   ]
  },
  {
   "cell_type": "markdown",
   "metadata": {},
   "source": [
    "---"
   ]
  },
  {
   "cell_type": "markdown",
   "metadata": {},
   "source": [
    "## Tipos de datos"
   ]
  },
  {
   "cell_type": "code",
   "execution_count": null,
   "metadata": {},
   "outputs": [],
   "source": [
    "sol_es_verde = False # Booleano\n",
    "sol_es_amarillo = True # Booleano\n",
    "\n",
    "cantidad_de_caracteres = 5 # Número entero / integer: int\n",
    "numeros = [1, 2, 3, 4, 5] # Lista"
   ]
  },
  {
   "cell_type": "markdown",
   "metadata": {},
   "source": [
    "---"
   ]
  },
  {
   "cell_type": "markdown",
   "metadata": {},
   "source": [
    "# Concatenar"
   ]
  },
  {
   "cell_type": "code",
   "execution_count": 2,
   "metadata": {},
   "outputs": [
    {
     "name": "stdout",
     "output_type": "stream",
     "text": [
      "La palabra ingresada es calor\n"
     ]
    }
   ],
   "source": [
    "mensaje1 = \"La palabra ingresada es \" + palabra\n",
    "print(mensaje1)\n",
    "\n",
    "# mensaje2 = \"La palabra era \" + palabra_a_adivinar"
   ]
  },
  {
   "cell_type": "markdown",
   "metadata": {},
   "source": [
    "---"
   ]
  },
  {
   "cell_type": "markdown",
   "metadata": {},
   "source": [
    "## Operadores lógicos"
   ]
  },
  {
   "cell_type": "code",
   "execution_count": 7,
   "metadata": {},
   "outputs": [
    {
     "name": "stdout",
     "output_type": "stream",
     "text": [
      "False\n",
      "True\n"
     ]
    }
   ],
   "source": [
    "# ==, !=, >, <, >=, <=\n",
    "letras_son_iguales = letra1 == letra2 # Devuelve True o False\n",
    "print(letras_son_iguales)\n",
    "\n",
    "# in\n",
    "letra_existe_en_la_palabra = letra1 in palabra # Devuelve True o False\n",
    "print(letra_existe_en_la_palabra)"
   ]
  },
  {
   "cell_type": "markdown",
   "metadata": {},
   "source": [
    "---"
   ]
  },
  {
   "cell_type": "markdown",
   "metadata": {},
   "source": [
    "## Condicionales"
   ]
  },
  {
   "cell_type": "code",
   "execution_count": 8,
   "metadata": {},
   "outputs": [
    {
     "name": "stdout",
     "output_type": "stream",
     "text": [
      "La letra existe en la palabra.\n"
     ]
    }
   ],
   "source": [
    "# if True:\n",
    "#     print(\"Verdadero\")\n",
    "\n",
    "if letra_existe_en_la_palabra:\n",
    "    print(\"La letra existe en la palabra.\")\n",
    "else:\n",
    "    print(\"La letra no existe.\")"
   ]
  },
  {
   "cell_type": "markdown",
   "metadata": {},
   "source": [
    "---"
   ]
  },
  {
   "cell_type": "markdown",
   "metadata": {},
   "source": [
    "## Funciones"
   ]
  },
  {
   "cell_type": "code",
   "execution_count": 9,
   "metadata": {},
   "outputs": [
    {
     "name": "stdout",
     "output_type": "stream",
     "text": [
      "hola mundo\n"
     ]
    }
   ],
   "source": [
    "def imprimir_saludo():\n",
    "    print(\"hola mundo\")\n",
    "\n",
    "imprimir_saludo()"
   ]
  },
  {
   "cell_type": "markdown",
   "metadata": {},
   "source": [
    "---"
   ]
  },
  {
   "cell_type": "markdown",
   "metadata": {},
   "source": [
    "## Challenge 1 🤺\n",
    "\n",
    "Crear una función que imprima la variable `palabra`."
   ]
  },
  {
   "cell_type": "code",
   "execution_count": 10,
   "metadata": {},
   "outputs": [
    {
     "name": "stdout",
     "output_type": "stream",
     "text": [
      "calor\n"
     ]
    }
   ],
   "source": [
    "# Solucion de Edgar\n",
    "\n",
    "def imprimir_palabra():\n",
    "    print(palabra)\n",
    "\n",
    "imprimir_palabra()"
   ]
  },
  {
   "cell_type": "code",
   "execution_count": 11,
   "metadata": {},
   "outputs": [
    {
     "name": "stdout",
     "output_type": "stream",
     "text": [
      "hola\n"
     ]
    }
   ],
   "source": [
    "# Solución de Gabi\n",
    "\n",
    "palabra = input(\"una palabra\")\n",
    "\n",
    "def la_palabra():\n",
    "    print(palabra)\n",
    "\n",
    "la_palabra()"
   ]
  },
  {
   "cell_type": "markdown",
   "metadata": {},
   "source": [
    "---"
   ]
  },
  {
   "cell_type": "markdown",
   "metadata": {},
   "source": [
    "## Funciones: parámetros y argumentos"
   ]
  },
  {
   "cell_type": "code",
   "execution_count": 13,
   "metadata": {},
   "outputs": [
    {
     "name": "stdout",
     "output_type": "stream",
     "text": [
      "calor\n",
      "cielo\n"
     ]
    }
   ],
   "source": [
    "palabra_ejemplo = \"calor\"\n",
    "print(palabra_ejemplo)\n",
    "\n",
    "def cambiar_la_palabra_ejemplo(nueva_palabra):\n",
    "    palabra_ejemplo = nueva_palabra\n",
    "    print(palabra_ejemplo)\n",
    "\n",
    "cambiar_la_palabra_ejemplo(\"cielo\")"
   ]
  },
  {
   "cell_type": "markdown",
   "metadata": {},
   "source": [
    "---"
   ]
  },
  {
   "cell_type": "markdown",
   "metadata": {},
   "source": [
    "## Challenge 2 🤺\n",
    "\n",
    "Crear una función que reciba dos letras (parámetros) y que verifique si son iguales:\n",
    "1. Si son iguales, imprimir **\"Las letras son iguales\"**.\n",
    "2. De lo contrario, imprimir **\"Las letras son diferentes\"**."
   ]
  },
  {
   "cell_type": "code",
   "execution_count": 14,
   "metadata": {},
   "outputs": [
    {
     "name": "stdout",
     "output_type": "stream",
     "text": [
      "las letras son iguales\n",
      "las letras son diferentes\n"
     ]
    }
   ],
   "source": [
    "# Solucion de Ruthie\n",
    "\n",
    "def definir_igualdad_de_dos_letras(letra1, letra2):\n",
    "    if letra1 == letra2:\n",
    "        print(\"las letras son iguales\")\n",
    "    else:\n",
    "        print(\"las letras son diferentes\")\n",
    "    \n",
    "definir_igualdad_de_dos_letras(\"a\", \"a\")\n",
    "definir_igualdad_de_dos_letras(\"a\", \"b\")"
   ]
  },
  {
   "cell_type": "markdown",
   "metadata": {},
   "source": [
    "---"
   ]
  },
  {
   "cell_type": "markdown",
   "metadata": {},
   "source": [
    "## Funciones: `return`"
   ]
  },
  {
   "cell_type": "code",
   "execution_count": 28,
   "metadata": {},
   "outputs": [
    {
     "name": "stdout",
     "output_type": "stream",
     "text": [
      "False\n",
      "no coinciden\n"
     ]
    }
   ],
   "source": [
    "def verificar_si_las_palabras_coinciden(palabra_a_encontrar, palabra_ingresada):\n",
    "    palabras_son_iguales = palabra_a_encontrar == palabra_ingresada\n",
    "    if palabras_son_iguales:\n",
    "        return True\n",
    "    else:\n",
    "        return False\n",
    "\n",
    "palabras_coinciden = verificar_si_las_palabras_coinciden(\"gato\", \"perro\")\n",
    "print(palabras_coinciden)\n",
    "\n",
    "if palabras_coinciden:\n",
    "    print(\"coinciden\")\n",
    "else:\n",
    "    print(\"no coinciden\")"
   ]
  },
  {
   "cell_type": "markdown",
   "metadata": {},
   "source": [
    "---"
   ]
  },
  {
   "cell_type": "markdown",
   "metadata": {},
   "source": [
    "# Challenge 3 🤺\n",
    "\n",
    "Crear función que revise si una palabra contiene una letra. En caso de que la contenga, retornar la letra entre corchetes `[]`. De lo contrario, retornar solo la letra."
   ]
  },
  {
   "cell_type": "code",
   "execution_count": 34,
   "metadata": {},
   "outputs": [
    {
     "name": "stdout",
     "output_type": "stream",
     "text": [
      "[a]\n"
     ]
    }
   ],
   "source": [
    "# Solución de Paci\n",
    "\n",
    "def existe_letra_en_palabra(letra_a_encontrar, palabra):\n",
    "    if letra_a_encontrar in palabra:\n",
    "        return \"[\" + letra_a_encontrar + \"]\"\n",
    "    else:\n",
    "        return letra_a_encontrar\n",
    "\n",
    "letra_existe = existe_letra_en_palabra(\"a\", \"pan\")\n",
    "print(letra_existe)"
   ]
  },
  {
   "cell_type": "markdown",
   "metadata": {},
   "source": [
    "---"
   ]
  },
  {
   "cell_type": "markdown",
   "metadata": {},
   "source": [
    "# Challenge 4 🤺\n",
    "\n",
    "Crear una función que reciba dos parámetros (una palabra y un número), y que devuelva `True` si el número es igual a la cantidad de letras de la palabra. En caso contrario, que devuelva `False`."
   ]
  },
  {
   "cell_type": "code",
   "execution_count": 35,
   "metadata": {},
   "outputs": [
    {
     "name": "stdout",
     "output_type": "stream",
     "text": [
      "4\n"
     ]
    }
   ],
   "source": [
    "palabra = \"casa\"\n",
    "print(len(palabra))"
   ]
  },
  {
   "cell_type": "code",
   "execution_count": 36,
   "metadata": {},
   "outputs": [
    {
     "name": "stdout",
     "output_type": "stream",
     "text": [
      "True\n",
      "False\n"
     ]
    }
   ],
   "source": [
    "# Solución de Tena\n",
    "\n",
    "def Merry_Poppins(una_palabra, un_numero):\n",
    "    # Usamos len para contar la cantidad de letras que hay en la palabra o frase\n",
    "    if len(una_palabra) == un_numero:\n",
    "        # Devuelve True por que es la cantidad de letras es igual al numero que se eligio\n",
    "        return True\n",
    "    else:\n",
    "        # Falso es por viceversa, o sea si no es igual\n",
    "        return False\n",
    "\n",
    "# Return es un resultado que se guarda dentro de una variable\n",
    "resultado1 = Merry_Poppins(\"supercalifragilicexpialidocous\", 30)\n",
    "# Cuando necesitamos dos resultados, creamos dos variables\n",
    "resultado2 = Merry_Poppins(\"supercalifragilicexpialidocous\", 24)\n",
    "\n",
    "print(resultado1)\n",
    "print(resultado2)"
   ]
  },
  {
   "cell_type": "markdown",
   "metadata": {},
   "source": [
    "---"
   ]
  },
  {
   "cell_type": "markdown",
   "metadata": {},
   "source": [
    "## Funciones built-in: `input()`"
   ]
  },
  {
   "cell_type": "code",
   "execution_count": 40,
   "metadata": {},
   "outputs": [
    {
     "name": "stdout",
     "output_type": "stream",
     "text": [
      "cielo\n",
      "calor\n"
     ]
    }
   ],
   "source": [
    "palabra_a_encontrar = input(\"Ingrese una palabra: \")\n",
    "print(palabra_a_encontrar)\n",
    "\n",
    "palabra_ingresada = input(\"Ingrese otra palabra\")\n",
    "print(palabra_ingresada)"
   ]
  },
  {
   "cell_type": "markdown",
   "metadata": {},
   "source": [
    "## Funciones built-in: `list()`"
   ]
  },
  {
   "cell_type": "code",
   "execution_count": 41,
   "metadata": {},
   "outputs": [
    {
     "name": "stdout",
     "output_type": "stream",
     "text": [
      "['c', 'i', 'e', 'l', 'o']\n",
      "['c', 'a', 'l', 'o', 'r']\n"
     ]
    }
   ],
   "source": [
    "# Convertimos la palabra a encontrar en una lista\n",
    "lista_de_letras_de_la_palabra_a_encontrar = list(palabra_a_encontrar)\n",
    "print(lista_de_letras_de_la_palabra_a_encontrar)\n",
    "\n",
    "lista_de_letras_de_la_palabra_ingresada = list(palabra_ingresada)\n",
    "print(lista_de_letras_de_la_palabra_ingresada)"
   ]
  },
  {
   "cell_type": "markdown",
   "metadata": {},
   "source": [
    "## Challenge 5 🤺\n",
    "\n",
    "Pedir al usuario que ingrese 1 palabra, luego convertir esa palabra a una lista con sus caracteres con `list()`. Agregar esa lista de caracteres a una lista llamada `palabras_ingresadas`. Repetir el proceso 3 veces. Cada vez que se agregue una lista de caracteres, imprimir la lista `palabras_ingresadas`."
   ]
  },
  {
   "cell_type": "code",
   "execution_count": 42,
   "metadata": {},
   "outputs": [
    {
     "name": "stdout",
     "output_type": "stream",
     "text": [
      "[['c', 'i', 'e', 'l', 'o']]\n",
      "[['c', 'i', 'e', 'l', 'o'], ['c', 'a', 'l', 'o', 'r']]\n",
      "[['c', 'i', 'e', 'l', 'o'], ['c', 'a', 'l', 'o', 'r'], ['n', 'u', 'b', 'e', 's']]\n"
     ]
    }
   ],
   "source": [
    "palabras_ingresadas = []\n",
    "\n",
    "palabra1 = input('Ingresa una palabra')\n",
    "palabra1 = list(palabra1)\n",
    "palabras_ingresadas.append(palabra1)\n",
    "print(palabras_ingresadas)\n",
    "\n",
    "palabra2 = input('Ingresa una palabra')\n",
    "palabra2 = list(palabra2)\n",
    "palabras_ingresadas.append(palabra2)\n",
    "print(palabras_ingresadas)\n",
    "\n",
    "palabra3 = input('Ingresa una palabra')\n",
    "palabra3 = list(palabra3)\n",
    "palabras_ingresadas.append(palabra3)\n",
    "print(palabras_ingresadas)"
   ]
  },
  {
   "cell_type": "code",
   "execution_count": 43,
   "metadata": {},
   "outputs": [
    {
     "name": "stdout",
     "output_type": "stream",
     "text": [
      "[['c', 'i', 'e', 'l', 'o']]\n",
      "[['c', 'i', 'e', 'l', 'o'], ['c', 'a', 'l', 'o', 'r']]\n",
      "[['c', 'i', 'e', 'l', 'o'], ['c', 'a', 'l', 'o', 'r'], ['n', 'u', 'b', 'e', 's']]\n"
     ]
    }
   ],
   "source": [
    "# Solución de William\n",
    "\n",
    "palabras_ingresadas = []\n",
    "\n",
    "for cantidad_de_veces in range(3):\n",
    "    una_palabra = input(\"Ingrese una palabra: \")\n",
    "    lista_de_caracteres = list(una_palabra)\n",
    "    palabras_ingresadas.append(lista_de_caracteres)\n",
    "    print(palabras_ingresadas)"
   ]
  },
  {
   "cell_type": "code",
   "execution_count": 44,
   "metadata": {},
   "outputs": [
    {
     "name": "stdout",
     "output_type": "stream",
     "text": [
      "[['c', 'i', 'e', 'l', 'o']]\n",
      "[['c', 'i', 'e', 'l', 'o'], ['c', 'a', 'l', 'o', 'r']]\n",
      "[['c', 'i', 'e', 'l', 'o'], ['c', 'a', 'l', 'o', 'r'], ['n', 'u', 'b', 'e', 's']]\n"
     ]
    }
   ],
   "source": [
    "# Solución de Lucas\n",
    "\n",
    "rep = 0\n",
    "lista = []\n",
    "\n",
    "while rep < 3:\n",
    "    palabra5 = list(input(\"Ingresa una palabra: \"))\n",
    "    lista.append(palabra5)\n",
    "    rep += 1\n",
    "    print(list(lista))"
   ]
  },
  {
   "cell_type": "markdown",
   "metadata": {},
   "source": [
    "---"
   ]
  },
  {
   "cell_type": "markdown",
   "metadata": {},
   "source": [
    "## Bucles `for`"
   ]
  },
  {
   "cell_type": "code",
   "execution_count": 46,
   "metadata": {},
   "outputs": [],
   "source": [
    "# Crear una lista vacía para el resultado\n",
    "# Definir la cantidad de letras a encontrar\n",
    "# Si las letras existen en la palabra a encontrar y sus posiciones coinciden: encerrar en corchetes [] y agregar al resultado\n",
    "# Si las letras existen en la palabra a encontrar pero sus posiciones no coinciden: encerrar en parentesis () y agregar al resultado\n",
    "# Si no se cumple ninguna de las anteriores, agregar al resultado sin modificaciones\n",
    "# Retornar el resultado\n",
    "\n",
    "def obtener_fila_verificada(lista_de_letras_de_la_palabra_a_encontrar, lista_de_letras_de_la_palabra_ingresada):\n",
    "    cantidad_de_letras_de_palabra_a_encontrar = 5\n",
    "\n",
    "    # Creamos una lista vacía para almancenar el resultado de una linea\n",
    "    resultado = []\n",
    "\n",
    "    # Iteramos por cada letra de la palabra ingresada\n",
    "    for posicion_de_la_letra in range(0, cantidad_de_letras_de_palabra_a_encontrar):\n",
    "\n",
    "        las_letras_son_iguales = lista_de_letras_de_la_palabra_a_encontrar[posicion_de_la_letra] == lista_de_letras_de_la_palabra_ingresada[posicion_de_la_letra]\n",
    "\n",
    "        la_letra_existe_en_la_palabra_a_encontrar = lista_de_letras_de_la_palabra_ingresada[posicion_de_la_letra] in lista_de_letras_de_la_palabra_a_encontrar\n",
    "\n",
    "        if las_letras_son_iguales:\n",
    "            # Guardar las letras que estan en la palabra a encontrar y coinciden en la posicion dentro de corchetes\n",
    "            resultado.append(\"[\"+lista_de_letras_de_la_palabra_ingresada[posicion_de_la_letra]+\"]\")\n",
    "        elif la_letra_existe_en_la_palabra_a_encontrar:\n",
    "            # Guardar las letras que no coinciden pero que estan en la palabra a encontrar dentro de parentesis\n",
    "            resultado.append(\"(\"+lista_de_letras_de_la_palabra_ingresada[posicion_de_la_letra]+\")\")\n",
    "        else:\n",
    "            resultado.append(lista_de_letras_de_la_palabra_ingresada[posicion_de_la_letra])\n",
    "    return resultado"
   ]
  },
  {
   "cell_type": "markdown",
   "metadata": {},
   "source": [
    "## Probamos nuestra función (y rezamos para que funcione)"
   ]
  },
  {
   "cell_type": "code",
   "execution_count": 47,
   "metadata": {},
   "outputs": [
    {
     "name": "stdout",
     "output_type": "stream",
     "text": [
      "['[c]', 'a', '(l)', '(o)', 'r']\n"
     ]
    }
   ],
   "source": [
    "linea_verificada = obtener_fila_verificada(lista_de_letras_de_la_palabra_a_encontrar,lista_de_letras_de_la_palabra_ingresada)\n",
    "\n",
    "print(linea_verificada)"
   ]
  },
  {
   "cell_type": "markdown",
   "metadata": {},
   "source": [
    "---"
   ]
  },
  {
   "cell_type": "markdown",
   "metadata": {},
   "source": [
    "## Challenge 6 🤺\n",
    "\n",
    "Imprimir una grilla: Crear una función que imprima una grilla (lista de listas), una línea por cada lista dentro de la lista principal."
   ]
  },
  {
   "cell_type": "code",
   "execution_count": 52,
   "metadata": {},
   "outputs": [
    {
     "name": "stdout",
     "output_type": "stream",
     "text": [
      "['h', 'o', 'l', 'i', 's']\n",
      "['h', 'e', 'l', 'l', 'o']\n",
      "['h', 'a', 'l', 'l', 'o']\n",
      "range(0, 3)\n"
     ]
    }
   ],
   "source": [
    "# Solución de Sergio\n",
    "\n",
    "lista = [['h', 'o', 'l', 'i', 's'], ['h', 'e', 'l', 'l', 'o'], ['h', 'a', 'l', 'l', 'o']]\n",
    "\n",
    "def grilla(lista):\n",
    "    for i in range(len(lista)): # Rango de la lista (cuenta cuantos elementos)\n",
    "        print(lista[i]) # Imprime los elementos 0, 1, 2\n",
    "\n",
    "grilla(lista)"
   ]
  },
  {
   "cell_type": "markdown",
   "metadata": {},
   "source": [
    "---"
   ]
  },
  {
   "cell_type": "markdown",
   "metadata": {},
   "source": [
    "## Bucles `while`"
   ]
  },
  {
   "cell_type": "code",
   "execution_count": 53,
   "metadata": {},
   "outputs": [
    {
     "name": "stdout",
     "output_type": "stream",
     "text": [
      "Te quedan 3 intentos.\n",
      "hola\n",
      "Te quedan 2 intentos.\n",
      "chau\n",
      "Te quedan 1 intentos.\n",
      "penguin\n",
      "Ya no quedan intentos.\n"
     ]
    }
   ],
   "source": [
    "# while True:\n",
    "#     print('si')\n",
    "\n",
    "# ----------------\n",
    "\n",
    "# while False:\n",
    "#     print('no')\n",
    "\n",
    "# ----------------\n",
    "\n",
    "# while 1 > 0:\n",
    "#     print('si')\n",
    "\n",
    "#----------------\n",
    "\n",
    "intentos = 3\n",
    "\n",
    "while intentos > 0:\n",
    "    print(\"Te quedan\", intentos, \"intentos.\")\n",
    "    palabra = input(\"Ingrese una palabra: \")\n",
    "    intentos = intentos - 1\n",
    "    print(palabra)\n",
    "print(\"Ya no quedan intentos.\")"
   ]
  },
  {
   "cell_type": "markdown",
   "metadata": {},
   "source": [
    "---"
   ]
  },
  {
   "cell_type": "markdown",
   "metadata": {},
   "source": [
    "# ¿Y si unimos todo? 💥💥💥💥💥💥💥"
   ]
  },
  {
   "cell_type": "code",
   "execution_count": null,
   "metadata": {},
   "outputs": [],
   "source": [
    "# Ver el archivo wordle.py"
   ]
  }
 ],
 "metadata": {
  "interpreter": {
   "hash": "aee8b7b246df8f9039afb4144a1f6fd8d2ca17a180786b69acc140d282b71a49"
  },
  "kernelspec": {
   "display_name": "Python 3.9.10 64-bit",
   "language": "python",
   "name": "python3"
  },
  "language_info": {
   "codemirror_mode": {
    "name": "ipython",
    "version": 3
   },
   "file_extension": ".py",
   "mimetype": "text/x-python",
   "name": "python",
   "nbconvert_exporter": "python",
   "pygments_lexer": "ipython3",
   "version": "3.9.10"
  },
  "orig_nbformat": 4
 },
 "nbformat": 4,
 "nbformat_minor": 2
}
